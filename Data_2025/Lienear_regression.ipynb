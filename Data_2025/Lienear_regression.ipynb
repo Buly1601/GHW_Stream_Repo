{
  "nbformat": 4,
  "nbformat_minor": 0,
  "metadata": {
    "colab": {
      "provenance": [],
      "generative_ai_disabled": true
    },
    "kernelspec": {
      "name": "python3",
      "display_name": "Python 3"
    },
    "language_info": {
      "name": "python"
    }
  },
  "cells": [
    {
      "cell_type": "markdown",
      "source": [
        "# Data Analisys with Python\n",
        "This notebook will cover what you need to know about data analysis with Python.\n",
        "\n",
        "The topics that will be covered are:\n",
        "- Data extraction from a CSV\n",
        "- Linear regression"
      ],
      "metadata": {
        "id": "WRM-rVQAoPoh"
      }
    },
    {
      "cell_type": "markdown",
      "source": [
        "## 1. Data extraction\n",
        "In this section, you'll find the steps on how to extract, filter, organize and read data from a csv\n",
        "\n",
        "1. Coefficient of Correlation\n",
        "\n",
        "![Correlation-Coefficient-Formula.png](data:image/png;base64,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)"
      ],
      "metadata": {
        "id": "qyez7IvGoxiW"
      }
    },
    {
      "cell_type": "code",
      "source": [
        "# set up kaggle for dataset\n",
        "!pip install kaggle\n",
        "!mkdir ~/.kaggle\n",
        "!cp kaggle.json ~/.kaggle/\n",
        "!chmod 600 ~/.kaggle/kaggle.json\n",
        "!kaggle datasets download abhishek14398/salary-dataset-simple-linear-regression"
      ],
      "metadata": {
        "colab": {
          "base_uri": "https://localhost:8080/"
        },
        "id": "amnuG7kmpKQW",
        "outputId": "bc733c6c-6033-47ae-fdd3-9a00fe193aac"
      },
      "execution_count": null,
      "outputs": [
        {
          "output_type": "stream",
          "name": "stdout",
          "text": [
            "Requirement already satisfied: kaggle in /usr/local/lib/python3.12/dist-packages (1.7.4.5)\n",
            "Requirement already satisfied: bleach in /usr/local/lib/python3.12/dist-packages (from kaggle) (6.2.0)\n",
            "Requirement already satisfied: certifi>=14.05.14 in /usr/local/lib/python3.12/dist-packages (from kaggle) (2025.8.3)\n",
            "Requirement already satisfied: charset-normalizer in /usr/local/lib/python3.12/dist-packages (from kaggle) (3.4.3)\n",
            "Requirement already satisfied: idna in /usr/local/lib/python3.12/dist-packages (from kaggle) (3.10)\n",
            "Requirement already satisfied: protobuf in /usr/local/lib/python3.12/dist-packages (from kaggle) (5.29.5)\n",
            "Requirement already satisfied: python-dateutil>=2.5.3 in /usr/local/lib/python3.12/dist-packages (from kaggle) (2.9.0.post0)\n",
            "Requirement already satisfied: python-slugify in /usr/local/lib/python3.12/dist-packages (from kaggle) (8.0.4)\n",
            "Requirement already satisfied: requests in /usr/local/lib/python3.12/dist-packages (from kaggle) (2.32.4)\n",
            "Requirement already satisfied: setuptools>=21.0.0 in /usr/local/lib/python3.12/dist-packages (from kaggle) (75.2.0)\n",
            "Requirement already satisfied: six>=1.10 in /usr/local/lib/python3.12/dist-packages (from kaggle) (1.17.0)\n",
            "Requirement already satisfied: text-unidecode in /usr/local/lib/python3.12/dist-packages (from kaggle) (1.3)\n",
            "Requirement already satisfied: tqdm in /usr/local/lib/python3.12/dist-packages (from kaggle) (4.67.1)\n",
            "Requirement already satisfied: urllib3>=1.15.1 in /usr/local/lib/python3.12/dist-packages (from kaggle) (2.5.0)\n",
            "Requirement already satisfied: webencodings in /usr/local/lib/python3.12/dist-packages (from kaggle) (0.5.1)\n",
            "Dataset URL: https://www.kaggle.com/datasets/abhishek14398/salary-dataset-simple-linear-regression\n",
            "License(s): CC0-1.0\n",
            "Downloading salary-dataset-simple-linear-regression.zip to /content\n",
            "  0% 0.00/457 [00:00<?, ?B/s]\n",
            "100% 457/457 [00:00<00:00, 1.60MB/s]\n"
          ]
        }
      ]
    },
    {
      "cell_type": "code",
      "source": [
        "# unzip dataset\n",
        "import zipfile\n",
        "\n",
        "with zipfile.ZipFile(\"/content/salary-dataset-simple-linear-regression.zip\", \"r\") as ref:\n",
        "  ref.extractall(\"/content/salary-dataset-simple-linear-regression\")"
      ],
      "metadata": {
        "id": "oDVuihbIq3RJ"
      },
      "execution_count": null,
      "outputs": []
    },
    {
      "cell_type": "code",
      "execution_count": null,
      "metadata": {
        "colab": {
          "base_uri": "https://localhost:8080/",
          "height": 206
        },
        "id": "HmS7oyyZn2y_",
        "outputId": "1831b8ce-8238-44db-c7da-818dfa5f939d"
      },
      "outputs": [
        {
          "output_type": "execute_result",
          "data": {
            "text/plain": [
              "   Unnamed: 0  YearsExperience   Salary\n",
              "0           0              1.2  39344.0\n",
              "1           1              1.4  46206.0\n",
              "2           2              1.6  37732.0\n",
              "3           3              2.1  43526.0\n",
              "4           4              2.3  39892.0"
            ],
            "text/html": [
              "\n",
              "  <div id=\"df-91e86fd5-4c44-490b-9c56-968d13915c55\" class=\"colab-df-container\">\n",
              "    <div>\n",
              "<style scoped>\n",
              "    .dataframe tbody tr th:only-of-type {\n",
              "        vertical-align: middle;\n",
              "    }\n",
              "\n",
              "    .dataframe tbody tr th {\n",
              "        vertical-align: top;\n",
              "    }\n",
              "\n",
              "    .dataframe thead th {\n",
              "        text-align: right;\n",
              "    }\n",
              "</style>\n",
              "<table border=\"1\" class=\"dataframe\">\n",
              "  <thead>\n",
              "    <tr style=\"text-align: right;\">\n",
              "      <th></th>\n",
              "      <th>Unnamed: 0</th>\n",
              "      <th>YearsExperience</th>\n",
              "      <th>Salary</th>\n",
              "    </tr>\n",
              "  </thead>\n",
              "  <tbody>\n",
              "    <tr>\n",
              "      <th>0</th>\n",
              "      <td>0</td>\n",
              "      <td>1.2</td>\n",
              "      <td>39344.0</td>\n",
              "    </tr>\n",
              "    <tr>\n",
              "      <th>1</th>\n",
              "      <td>1</td>\n",
              "      <td>1.4</td>\n",
              "      <td>46206.0</td>\n",
              "    </tr>\n",
              "    <tr>\n",
              "      <th>2</th>\n",
              "      <td>2</td>\n",
              "      <td>1.6</td>\n",
              "      <td>37732.0</td>\n",
              "    </tr>\n",
              "    <tr>\n",
              "      <th>3</th>\n",
              "      <td>3</td>\n",
              "      <td>2.1</td>\n",
              "      <td>43526.0</td>\n",
              "    </tr>\n",
              "    <tr>\n",
              "      <th>4</th>\n",
              "      <td>4</td>\n",
              "      <td>2.3</td>\n",
              "      <td>39892.0</td>\n",
              "    </tr>\n",
              "  </tbody>\n",
              "</table>\n",
              "</div>\n",
              "    <div class=\"colab-df-buttons\">\n",
              "\n",
              "  <div class=\"colab-df-container\">\n",
              "    <button class=\"colab-df-convert\" onclick=\"convertToInteractive('df-91e86fd5-4c44-490b-9c56-968d13915c55')\"\n",
              "            title=\"Convert this dataframe to an interactive table.\"\n",
              "            style=\"display:none;\">\n",
              "\n",
              "  <svg xmlns=\"http://www.w3.org/2000/svg\" height=\"24px\" viewBox=\"0 -960 960 960\">\n",
              "    <path d=\"M120-120v-720h720v720H120Zm60-500h600v-160H180v160Zm220 220h160v-160H400v160Zm0 220h160v-160H400v160ZM180-400h160v-160H180v160Zm440 0h160v-160H620v160ZM180-180h160v-160H180v160Zm440 0h160v-160H620v160Z\"/>\n",
              "  </svg>\n",
              "    </button>\n",
              "\n",
              "  <style>\n",
              "    .colab-df-container {\n",
              "      display:flex;\n",
              "      gap: 12px;\n",
              "    }\n",
              "\n",
              "    .colab-df-convert {\n",
              "      background-color: #E8F0FE;\n",
              "      border: none;\n",
              "      border-radius: 50%;\n",
              "      cursor: pointer;\n",
              "      display: none;\n",
              "      fill: #1967D2;\n",
              "      height: 32px;\n",
              "      padding: 0 0 0 0;\n",
              "      width: 32px;\n",
              "    }\n",
              "\n",
              "    .colab-df-convert:hover {\n",
              "      background-color: #E2EBFA;\n",
              "      box-shadow: 0px 1px 2px rgba(60, 64, 67, 0.3), 0px 1px 3px 1px rgba(60, 64, 67, 0.15);\n",
              "      fill: #174EA6;\n",
              "    }\n",
              "\n",
              "    .colab-df-buttons div {\n",
              "      margin-bottom: 4px;\n",
              "    }\n",
              "\n",
              "    [theme=dark] .colab-df-convert {\n",
              "      background-color: #3B4455;\n",
              "      fill: #D2E3FC;\n",
              "    }\n",
              "\n",
              "    [theme=dark] .colab-df-convert:hover {\n",
              "      background-color: #434B5C;\n",
              "      box-shadow: 0px 1px 3px 1px rgba(0, 0, 0, 0.15);\n",
              "      filter: drop-shadow(0px 1px 2px rgba(0, 0, 0, 0.3));\n",
              "      fill: #FFFFFF;\n",
              "    }\n",
              "  </style>\n",
              "\n",
              "    <script>\n",
              "      const buttonEl =\n",
              "        document.querySelector('#df-91e86fd5-4c44-490b-9c56-968d13915c55 button.colab-df-convert');\n",
              "      buttonEl.style.display =\n",
              "        google.colab.kernel.accessAllowed ? 'block' : 'none';\n",
              "\n",
              "      async function convertToInteractive(key) {\n",
              "        const element = document.querySelector('#df-91e86fd5-4c44-490b-9c56-968d13915c55');\n",
              "        const dataTable =\n",
              "          await google.colab.kernel.invokeFunction('convertToInteractive',\n",
              "                                                    [key], {});\n",
              "        if (!dataTable) return;\n",
              "\n",
              "        const docLinkHtml = 'Like what you see? Visit the ' +\n",
              "          '<a target=\"_blank\" href=https://colab.research.google.com/notebooks/data_table.ipynb>data table notebook</a>'\n",
              "          + ' to learn more about interactive tables.';\n",
              "        element.innerHTML = '';\n",
              "        dataTable['output_type'] = 'display_data';\n",
              "        await google.colab.output.renderOutput(dataTable, element);\n",
              "        const docLink = document.createElement('div');\n",
              "        docLink.innerHTML = docLinkHtml;\n",
              "        element.appendChild(docLink);\n",
              "      }\n",
              "    </script>\n",
              "  </div>\n",
              "\n",
              "\n",
              "    <div id=\"df-a07cf419-271c-4aea-a88c-2e82a2ede0d1\">\n",
              "      <button class=\"colab-df-quickchart\" onclick=\"quickchart('df-a07cf419-271c-4aea-a88c-2e82a2ede0d1')\"\n",
              "                title=\"Suggest charts\"\n",
              "                style=\"display:none;\">\n",
              "\n",
              "<svg xmlns=\"http://www.w3.org/2000/svg\" height=\"24px\"viewBox=\"0 0 24 24\"\n",
              "     width=\"24px\">\n",
              "    <g>\n",
              "        <path d=\"M19 3H5c-1.1 0-2 .9-2 2v14c0 1.1.9 2 2 2h14c1.1 0 2-.9 2-2V5c0-1.1-.9-2-2-2zM9 17H7v-7h2v7zm4 0h-2V7h2v10zm4 0h-2v-4h2v4z\"/>\n",
              "    </g>\n",
              "</svg>\n",
              "      </button>\n",
              "\n",
              "<style>\n",
              "  .colab-df-quickchart {\n",
              "      --bg-color: #E8F0FE;\n",
              "      --fill-color: #1967D2;\n",
              "      --hover-bg-color: #E2EBFA;\n",
              "      --hover-fill-color: #174EA6;\n",
              "      --disabled-fill-color: #AAA;\n",
              "      --disabled-bg-color: #DDD;\n",
              "  }\n",
              "\n",
              "  [theme=dark] .colab-df-quickchart {\n",
              "      --bg-color: #3B4455;\n",
              "      --fill-color: #D2E3FC;\n",
              "      --hover-bg-color: #434B5C;\n",
              "      --hover-fill-color: #FFFFFF;\n",
              "      --disabled-bg-color: #3B4455;\n",
              "      --disabled-fill-color: #666;\n",
              "  }\n",
              "\n",
              "  .colab-df-quickchart {\n",
              "    background-color: var(--bg-color);\n",
              "    border: none;\n",
              "    border-radius: 50%;\n",
              "    cursor: pointer;\n",
              "    display: none;\n",
              "    fill: var(--fill-color);\n",
              "    height: 32px;\n",
              "    padding: 0;\n",
              "    width: 32px;\n",
              "  }\n",
              "\n",
              "  .colab-df-quickchart:hover {\n",
              "    background-color: var(--hover-bg-color);\n",
              "    box-shadow: 0 1px 2px rgba(60, 64, 67, 0.3), 0 1px 3px 1px rgba(60, 64, 67, 0.15);\n",
              "    fill: var(--button-hover-fill-color);\n",
              "  }\n",
              "\n",
              "  .colab-df-quickchart-complete:disabled,\n",
              "  .colab-df-quickchart-complete:disabled:hover {\n",
              "    background-color: var(--disabled-bg-color);\n",
              "    fill: var(--disabled-fill-color);\n",
              "    box-shadow: none;\n",
              "  }\n",
              "\n",
              "  .colab-df-spinner {\n",
              "    border: 2px solid var(--fill-color);\n",
              "    border-color: transparent;\n",
              "    border-bottom-color: var(--fill-color);\n",
              "    animation:\n",
              "      spin 1s steps(1) infinite;\n",
              "  }\n",
              "\n",
              "  @keyframes spin {\n",
              "    0% {\n",
              "      border-color: transparent;\n",
              "      border-bottom-color: var(--fill-color);\n",
              "      border-left-color: var(--fill-color);\n",
              "    }\n",
              "    20% {\n",
              "      border-color: transparent;\n",
              "      border-left-color: var(--fill-color);\n",
              "      border-top-color: var(--fill-color);\n",
              "    }\n",
              "    30% {\n",
              "      border-color: transparent;\n",
              "      border-left-color: var(--fill-color);\n",
              "      border-top-color: var(--fill-color);\n",
              "      border-right-color: var(--fill-color);\n",
              "    }\n",
              "    40% {\n",
              "      border-color: transparent;\n",
              "      border-right-color: var(--fill-color);\n",
              "      border-top-color: var(--fill-color);\n",
              "    }\n",
              "    60% {\n",
              "      border-color: transparent;\n",
              "      border-right-color: var(--fill-color);\n",
              "    }\n",
              "    80% {\n",
              "      border-color: transparent;\n",
              "      border-right-color: var(--fill-color);\n",
              "      border-bottom-color: var(--fill-color);\n",
              "    }\n",
              "    90% {\n",
              "      border-color: transparent;\n",
              "      border-bottom-color: var(--fill-color);\n",
              "    }\n",
              "  }\n",
              "</style>\n",
              "\n",
              "      <script>\n",
              "        async function quickchart(key) {\n",
              "          const quickchartButtonEl =\n",
              "            document.querySelector('#' + key + ' button');\n",
              "          quickchartButtonEl.disabled = true;  // To prevent multiple clicks.\n",
              "          quickchartButtonEl.classList.add('colab-df-spinner');\n",
              "          try {\n",
              "            const charts = await google.colab.kernel.invokeFunction(\n",
              "                'suggestCharts', [key], {});\n",
              "          } catch (error) {\n",
              "            console.error('Error during call to suggestCharts:', error);\n",
              "          }\n",
              "          quickchartButtonEl.classList.remove('colab-df-spinner');\n",
              "          quickchartButtonEl.classList.add('colab-df-quickchart-complete');\n",
              "        }\n",
              "        (() => {\n",
              "          let quickchartButtonEl =\n",
              "            document.querySelector('#df-a07cf419-271c-4aea-a88c-2e82a2ede0d1 button');\n",
              "          quickchartButtonEl.style.display =\n",
              "            google.colab.kernel.accessAllowed ? 'block' : 'none';\n",
              "        })();\n",
              "      </script>\n",
              "    </div>\n",
              "\n",
              "    </div>\n",
              "  </div>\n"
            ],
            "application/vnd.google.colaboratory.intrinsic+json": {
              "type": "dataframe",
              "variable_name": "salary_df",
              "summary": "{\n  \"name\": \"salary_df\",\n  \"rows\": 30,\n  \"fields\": [\n    {\n      \"column\": \"Unnamed: 0\",\n      \"properties\": {\n        \"dtype\": \"number\",\n        \"std\": 8,\n        \"min\": 0,\n        \"max\": 29,\n        \"num_unique_values\": 30,\n        \"samples\": [\n          27,\n          15,\n          23\n        ],\n        \"semantic_type\": \"\",\n        \"description\": \"\"\n      }\n    },\n    {\n      \"column\": \"YearsExperience\",\n      \"properties\": {\n        \"dtype\": \"number\",\n        \"std\": 2.8378881576627184,\n        \"min\": 1.2000000000000002,\n        \"max\": 10.6,\n        \"num_unique_values\": 28,\n        \"samples\": [\n          4.0,\n          9.7,\n          3.8\n        ],\n        \"semantic_type\": \"\",\n        \"description\": \"\"\n      }\n    },\n    {\n      \"column\": \"Salary\",\n      \"properties\": {\n        \"dtype\": \"number\",\n        \"std\": 27414.4297845823,\n        \"min\": 37732.0,\n        \"max\": 122392.0,\n        \"num_unique_values\": 30,\n        \"samples\": [\n          112636.0,\n          67939.0,\n          113813.0\n        ],\n        \"semantic_type\": \"\",\n        \"description\": \"\"\n      }\n    }\n  ]\n}"
            }
          },
          "metadata": {},
          "execution_count": 3
        }
      ],
      "source": [
        "import pandas as pd\n",
        "\n",
        "# read the dataset as dataframe\n",
        "salary_df = pd.read_csv(\"/content/salary-dataset-simple-linear-regression/Salary_dataset.csv\")\n",
        "\n",
        "# check the first 5 rows of the dataset\n",
        "salary_df.head()"
      ]
    },
    {
      "cell_type": "code",
      "source": [
        "# what about the \"unamed\" title?\n",
        "salary_df = pd.read_csv(\"/content/salary-dataset-simple-linear-regression/Salary_dataset.csv\", index_col=0)\n",
        "salary_df.head()"
      ],
      "metadata": {
        "colab": {
          "base_uri": "https://localhost:8080/",
          "height": 206
        },
        "id": "He3bvHGFsoNi",
        "outputId": "4cf9cb71-1f65-45c1-d7c5-04516872a664"
      },
      "execution_count": null,
      "outputs": [
        {
          "output_type": "execute_result",
          "data": {
            "text/plain": [
              "   YearsExperience   Salary\n",
              "0              1.2  39344.0\n",
              "1              1.4  46206.0\n",
              "2              1.6  37732.0\n",
              "3              2.1  43526.0\n",
              "4              2.3  39892.0"
            ],
            "text/html": [
              "\n",
              "  <div id=\"df-be8bd18c-e35f-48a0-afb3-c3cdfb14ee5c\" class=\"colab-df-container\">\n",
              "    <div>\n",
              "<style scoped>\n",
              "    .dataframe tbody tr th:only-of-type {\n",
              "        vertical-align: middle;\n",
              "    }\n",
              "\n",
              "    .dataframe tbody tr th {\n",
              "        vertical-align: top;\n",
              "    }\n",
              "\n",
              "    .dataframe thead th {\n",
              "        text-align: right;\n",
              "    }\n",
              "</style>\n",
              "<table border=\"1\" class=\"dataframe\">\n",
              "  <thead>\n",
              "    <tr style=\"text-align: right;\">\n",
              "      <th></th>\n",
              "      <th>YearsExperience</th>\n",
              "      <th>Salary</th>\n",
              "    </tr>\n",
              "  </thead>\n",
              "  <tbody>\n",
              "    <tr>\n",
              "      <th>0</th>\n",
              "      <td>1.2</td>\n",
              "      <td>39344.0</td>\n",
              "    </tr>\n",
              "    <tr>\n",
              "      <th>1</th>\n",
              "      <td>1.4</td>\n",
              "      <td>46206.0</td>\n",
              "    </tr>\n",
              "    <tr>\n",
              "      <th>2</th>\n",
              "      <td>1.6</td>\n",
              "      <td>37732.0</td>\n",
              "    </tr>\n",
              "    <tr>\n",
              "      <th>3</th>\n",
              "      <td>2.1</td>\n",
              "      <td>43526.0</td>\n",
              "    </tr>\n",
              "    <tr>\n",
              "      <th>4</th>\n",
              "      <td>2.3</td>\n",
              "      <td>39892.0</td>\n",
              "    </tr>\n",
              "  </tbody>\n",
              "</table>\n",
              "</div>\n",
              "    <div class=\"colab-df-buttons\">\n",
              "\n",
              "  <div class=\"colab-df-container\">\n",
              "    <button class=\"colab-df-convert\" onclick=\"convertToInteractive('df-be8bd18c-e35f-48a0-afb3-c3cdfb14ee5c')\"\n",
              "            title=\"Convert this dataframe to an interactive table.\"\n",
              "            style=\"display:none;\">\n",
              "\n",
              "  <svg xmlns=\"http://www.w3.org/2000/svg\" height=\"24px\" viewBox=\"0 -960 960 960\">\n",
              "    <path d=\"M120-120v-720h720v720H120Zm60-500h600v-160H180v160Zm220 220h160v-160H400v160Zm0 220h160v-160H400v160ZM180-400h160v-160H180v160Zm440 0h160v-160H620v160ZM180-180h160v-160H180v160Zm440 0h160v-160H620v160Z\"/>\n",
              "  </svg>\n",
              "    </button>\n",
              "\n",
              "  <style>\n",
              "    .colab-df-container {\n",
              "      display:flex;\n",
              "      gap: 12px;\n",
              "    }\n",
              "\n",
              "    .colab-df-convert {\n",
              "      background-color: #E8F0FE;\n",
              "      border: none;\n",
              "      border-radius: 50%;\n",
              "      cursor: pointer;\n",
              "      display: none;\n",
              "      fill: #1967D2;\n",
              "      height: 32px;\n",
              "      padding: 0 0 0 0;\n",
              "      width: 32px;\n",
              "    }\n",
              "\n",
              "    .colab-df-convert:hover {\n",
              "      background-color: #E2EBFA;\n",
              "      box-shadow: 0px 1px 2px rgba(60, 64, 67, 0.3), 0px 1px 3px 1px rgba(60, 64, 67, 0.15);\n",
              "      fill: #174EA6;\n",
              "    }\n",
              "\n",
              "    .colab-df-buttons div {\n",
              "      margin-bottom: 4px;\n",
              "    }\n",
              "\n",
              "    [theme=dark] .colab-df-convert {\n",
              "      background-color: #3B4455;\n",
              "      fill: #D2E3FC;\n",
              "    }\n",
              "\n",
              "    [theme=dark] .colab-df-convert:hover {\n",
              "      background-color: #434B5C;\n",
              "      box-shadow: 0px 1px 3px 1px rgba(0, 0, 0, 0.15);\n",
              "      filter: drop-shadow(0px 1px 2px rgba(0, 0, 0, 0.3));\n",
              "      fill: #FFFFFF;\n",
              "    }\n",
              "  </style>\n",
              "\n",
              "    <script>\n",
              "      const buttonEl =\n",
              "        document.querySelector('#df-be8bd18c-e35f-48a0-afb3-c3cdfb14ee5c button.colab-df-convert');\n",
              "      buttonEl.style.display =\n",
              "        google.colab.kernel.accessAllowed ? 'block' : 'none';\n",
              "\n",
              "      async function convertToInteractive(key) {\n",
              "        const element = document.querySelector('#df-be8bd18c-e35f-48a0-afb3-c3cdfb14ee5c');\n",
              "        const dataTable =\n",
              "          await google.colab.kernel.invokeFunction('convertToInteractive',\n",
              "                                                    [key], {});\n",
              "        if (!dataTable) return;\n",
              "\n",
              "        const docLinkHtml = 'Like what you see? Visit the ' +\n",
              "          '<a target=\"_blank\" href=https://colab.research.google.com/notebooks/data_table.ipynb>data table notebook</a>'\n",
              "          + ' to learn more about interactive tables.';\n",
              "        element.innerHTML = '';\n",
              "        dataTable['output_type'] = 'display_data';\n",
              "        await google.colab.output.renderOutput(dataTable, element);\n",
              "        const docLink = document.createElement('div');\n",
              "        docLink.innerHTML = docLinkHtml;\n",
              "        element.appendChild(docLink);\n",
              "      }\n",
              "    </script>\n",
              "  </div>\n",
              "\n",
              "\n",
              "    <div id=\"df-851d9d3a-dfa5-4f67-8ee3-61e27bd48c28\">\n",
              "      <button class=\"colab-df-quickchart\" onclick=\"quickchart('df-851d9d3a-dfa5-4f67-8ee3-61e27bd48c28')\"\n",
              "                title=\"Suggest charts\"\n",
              "                style=\"display:none;\">\n",
              "\n",
              "<svg xmlns=\"http://www.w3.org/2000/svg\" height=\"24px\"viewBox=\"0 0 24 24\"\n",
              "     width=\"24px\">\n",
              "    <g>\n",
              "        <path d=\"M19 3H5c-1.1 0-2 .9-2 2v14c0 1.1.9 2 2 2h14c1.1 0 2-.9 2-2V5c0-1.1-.9-2-2-2zM9 17H7v-7h2v7zm4 0h-2V7h2v10zm4 0h-2v-4h2v4z\"/>\n",
              "    </g>\n",
              "</svg>\n",
              "      </button>\n",
              "\n",
              "<style>\n",
              "  .colab-df-quickchart {\n",
              "      --bg-color: #E8F0FE;\n",
              "      --fill-color: #1967D2;\n",
              "      --hover-bg-color: #E2EBFA;\n",
              "      --hover-fill-color: #174EA6;\n",
              "      --disabled-fill-color: #AAA;\n",
              "      --disabled-bg-color: #DDD;\n",
              "  }\n",
              "\n",
              "  [theme=dark] .colab-df-quickchart {\n",
              "      --bg-color: #3B4455;\n",
              "      --fill-color: #D2E3FC;\n",
              "      --hover-bg-color: #434B5C;\n",
              "      --hover-fill-color: #FFFFFF;\n",
              "      --disabled-bg-color: #3B4455;\n",
              "      --disabled-fill-color: #666;\n",
              "  }\n",
              "\n",
              "  .colab-df-quickchart {\n",
              "    background-color: var(--bg-color);\n",
              "    border: none;\n",
              "    border-radius: 50%;\n",
              "    cursor: pointer;\n",
              "    display: none;\n",
              "    fill: var(--fill-color);\n",
              "    height: 32px;\n",
              "    padding: 0;\n",
              "    width: 32px;\n",
              "  }\n",
              "\n",
              "  .colab-df-quickchart:hover {\n",
              "    background-color: var(--hover-bg-color);\n",
              "    box-shadow: 0 1px 2px rgba(60, 64, 67, 0.3), 0 1px 3px 1px rgba(60, 64, 67, 0.15);\n",
              "    fill: var(--button-hover-fill-color);\n",
              "  }\n",
              "\n",
              "  .colab-df-quickchart-complete:disabled,\n",
              "  .colab-df-quickchart-complete:disabled:hover {\n",
              "    background-color: var(--disabled-bg-color);\n",
              "    fill: var(--disabled-fill-color);\n",
              "    box-shadow: none;\n",
              "  }\n",
              "\n",
              "  .colab-df-spinner {\n",
              "    border: 2px solid var(--fill-color);\n",
              "    border-color: transparent;\n",
              "    border-bottom-color: var(--fill-color);\n",
              "    animation:\n",
              "      spin 1s steps(1) infinite;\n",
              "  }\n",
              "\n",
              "  @keyframes spin {\n",
              "    0% {\n",
              "      border-color: transparent;\n",
              "      border-bottom-color: var(--fill-color);\n",
              "      border-left-color: var(--fill-color);\n",
              "    }\n",
              "    20% {\n",
              "      border-color: transparent;\n",
              "      border-left-color: var(--fill-color);\n",
              "      border-top-color: var(--fill-color);\n",
              "    }\n",
              "    30% {\n",
              "      border-color: transparent;\n",
              "      border-left-color: var(--fill-color);\n",
              "      border-top-color: var(--fill-color);\n",
              "      border-right-color: var(--fill-color);\n",
              "    }\n",
              "    40% {\n",
              "      border-color: transparent;\n",
              "      border-right-color: var(--fill-color);\n",
              "      border-top-color: var(--fill-color);\n",
              "    }\n",
              "    60% {\n",
              "      border-color: transparent;\n",
              "      border-right-color: var(--fill-color);\n",
              "    }\n",
              "    80% {\n",
              "      border-color: transparent;\n",
              "      border-right-color: var(--fill-color);\n",
              "      border-bottom-color: var(--fill-color);\n",
              "    }\n",
              "    90% {\n",
              "      border-color: transparent;\n",
              "      border-bottom-color: var(--fill-color);\n",
              "    }\n",
              "  }\n",
              "</style>\n",
              "\n",
              "      <script>\n",
              "        async function quickchart(key) {\n",
              "          const quickchartButtonEl =\n",
              "            document.querySelector('#' + key + ' button');\n",
              "          quickchartButtonEl.disabled = true;  // To prevent multiple clicks.\n",
              "          quickchartButtonEl.classList.add('colab-df-spinner');\n",
              "          try {\n",
              "            const charts = await google.colab.kernel.invokeFunction(\n",
              "                'suggestCharts', [key], {});\n",
              "          } catch (error) {\n",
              "            console.error('Error during call to suggestCharts:', error);\n",
              "          }\n",
              "          quickchartButtonEl.classList.remove('colab-df-spinner');\n",
              "          quickchartButtonEl.classList.add('colab-df-quickchart-complete');\n",
              "        }\n",
              "        (() => {\n",
              "          let quickchartButtonEl =\n",
              "            document.querySelector('#df-851d9d3a-dfa5-4f67-8ee3-61e27bd48c28 button');\n",
              "          quickchartButtonEl.style.display =\n",
              "            google.colab.kernel.accessAllowed ? 'block' : 'none';\n",
              "        })();\n",
              "      </script>\n",
              "    </div>\n",
              "\n",
              "    </div>\n",
              "  </div>\n"
            ],
            "application/vnd.google.colaboratory.intrinsic+json": {
              "type": "dataframe",
              "variable_name": "salary_df",
              "summary": "{\n  \"name\": \"salary_df\",\n  \"rows\": 30,\n  \"fields\": [\n    {\n      \"column\": \"YearsExperience\",\n      \"properties\": {\n        \"dtype\": \"number\",\n        \"std\": 2.8378881576627184,\n        \"min\": 1.2000000000000002,\n        \"max\": 10.6,\n        \"num_unique_values\": 28,\n        \"samples\": [\n          4.0,\n          9.7,\n          3.8\n        ],\n        \"semantic_type\": \"\",\n        \"description\": \"\"\n      }\n    },\n    {\n      \"column\": \"Salary\",\n      \"properties\": {\n        \"dtype\": \"number\",\n        \"std\": 27414.4297845823,\n        \"min\": 37732.0,\n        \"max\": 122392.0,\n        \"num_unique_values\": 30,\n        \"samples\": [\n          112636.0,\n          67939.0,\n          113813.0\n        ],\n        \"semantic_type\": \"\",\n        \"description\": \"\"\n      }\n    }\n  ]\n}"
            }
          },
          "metadata": {},
          "execution_count": 4
        }
      ]
    },
    {
      "cell_type": "code",
      "source": [
        "# check the info\n",
        "salary_df.info()"
      ],
      "metadata": {
        "colab": {
          "base_uri": "https://localhost:8080/"
        },
        "id": "_sekhMcC73Rt",
        "outputId": "621e3350-bad2-42c3-9773-e569921cef9e"
      },
      "execution_count": null,
      "outputs": [
        {
          "output_type": "stream",
          "name": "stdout",
          "text": [
            "<class 'pandas.core.frame.DataFrame'>\n",
            "Index: 30 entries, 0 to 29\n",
            "Data columns (total 2 columns):\n",
            " #   Column           Non-Null Count  Dtype  \n",
            "---  ------           --------------  -----  \n",
            " 0   YearsExperience  30 non-null     float64\n",
            " 1   Salary           30 non-null     float64\n",
            "dtypes: float64(2)\n",
            "memory usage: 720.0 bytes\n"
          ]
        }
      ]
    },
    {
      "cell_type": "code",
      "source": [
        "# check description\n",
        "salary_df.describe()"
      ],
      "metadata": {
        "colab": {
          "base_uri": "https://localhost:8080/",
          "height": 300
        },
        "id": "ynKDUTTH8C8u",
        "outputId": "b79c1206-9d19-474a-a98f-c4da078c85bb"
      },
      "execution_count": null,
      "outputs": [
        {
          "output_type": "execute_result",
          "data": {
            "text/plain": [
              "       YearsExperience         Salary\n",
              "count        30.000000      30.000000\n",
              "mean          5.413333   76004.000000\n",
              "std           2.837888   27414.429785\n",
              "min           1.200000   37732.000000\n",
              "25%           3.300000   56721.750000\n",
              "50%           4.800000   65238.000000\n",
              "75%           7.800000  100545.750000\n",
              "max          10.600000  122392.000000"
            ],
            "text/html": [
              "\n",
              "  <div id=\"df-37d98b36-c88b-4619-a95a-9dc46e5f63c8\" class=\"colab-df-container\">\n",
              "    <div>\n",
              "<style scoped>\n",
              "    .dataframe tbody tr th:only-of-type {\n",
              "        vertical-align: middle;\n",
              "    }\n",
              "\n",
              "    .dataframe tbody tr th {\n",
              "        vertical-align: top;\n",
              "    }\n",
              "\n",
              "    .dataframe thead th {\n",
              "        text-align: right;\n",
              "    }\n",
              "</style>\n",
              "<table border=\"1\" class=\"dataframe\">\n",
              "  <thead>\n",
              "    <tr style=\"text-align: right;\">\n",
              "      <th></th>\n",
              "      <th>YearsExperience</th>\n",
              "      <th>Salary</th>\n",
              "    </tr>\n",
              "  </thead>\n",
              "  <tbody>\n",
              "    <tr>\n",
              "      <th>count</th>\n",
              "      <td>30.000000</td>\n",
              "      <td>30.000000</td>\n",
              "    </tr>\n",
              "    <tr>\n",
              "      <th>mean</th>\n",
              "      <td>5.413333</td>\n",
              "      <td>76004.000000</td>\n",
              "    </tr>\n",
              "    <tr>\n",
              "      <th>std</th>\n",
              "      <td>2.837888</td>\n",
              "      <td>27414.429785</td>\n",
              "    </tr>\n",
              "    <tr>\n",
              "      <th>min</th>\n",
              "      <td>1.200000</td>\n",
              "      <td>37732.000000</td>\n",
              "    </tr>\n",
              "    <tr>\n",
              "      <th>25%</th>\n",
              "      <td>3.300000</td>\n",
              "      <td>56721.750000</td>\n",
              "    </tr>\n",
              "    <tr>\n",
              "      <th>50%</th>\n",
              "      <td>4.800000</td>\n",
              "      <td>65238.000000</td>\n",
              "    </tr>\n",
              "    <tr>\n",
              "      <th>75%</th>\n",
              "      <td>7.800000</td>\n",
              "      <td>100545.750000</td>\n",
              "    </tr>\n",
              "    <tr>\n",
              "      <th>max</th>\n",
              "      <td>10.600000</td>\n",
              "      <td>122392.000000</td>\n",
              "    </tr>\n",
              "  </tbody>\n",
              "</table>\n",
              "</div>\n",
              "    <div class=\"colab-df-buttons\">\n",
              "\n",
              "  <div class=\"colab-df-container\">\n",
              "    <button class=\"colab-df-convert\" onclick=\"convertToInteractive('df-37d98b36-c88b-4619-a95a-9dc46e5f63c8')\"\n",
              "            title=\"Convert this dataframe to an interactive table.\"\n",
              "            style=\"display:none;\">\n",
              "\n",
              "  <svg xmlns=\"http://www.w3.org/2000/svg\" height=\"24px\" viewBox=\"0 -960 960 960\">\n",
              "    <path d=\"M120-120v-720h720v720H120Zm60-500h600v-160H180v160Zm220 220h160v-160H400v160Zm0 220h160v-160H400v160ZM180-400h160v-160H180v160Zm440 0h160v-160H620v160ZM180-180h160v-160H180v160Zm440 0h160v-160H620v160Z\"/>\n",
              "  </svg>\n",
              "    </button>\n",
              "\n",
              "  <style>\n",
              "    .colab-df-container {\n",
              "      display:flex;\n",
              "      gap: 12px;\n",
              "    }\n",
              "\n",
              "    .colab-df-convert {\n",
              "      background-color: #E8F0FE;\n",
              "      border: none;\n",
              "      border-radius: 50%;\n",
              "      cursor: pointer;\n",
              "      display: none;\n",
              "      fill: #1967D2;\n",
              "      height: 32px;\n",
              "      padding: 0 0 0 0;\n",
              "      width: 32px;\n",
              "    }\n",
              "\n",
              "    .colab-df-convert:hover {\n",
              "      background-color: #E2EBFA;\n",
              "      box-shadow: 0px 1px 2px rgba(60, 64, 67, 0.3), 0px 1px 3px 1px rgba(60, 64, 67, 0.15);\n",
              "      fill: #174EA6;\n",
              "    }\n",
              "\n",
              "    .colab-df-buttons div {\n",
              "      margin-bottom: 4px;\n",
              "    }\n",
              "\n",
              "    [theme=dark] .colab-df-convert {\n",
              "      background-color: #3B4455;\n",
              "      fill: #D2E3FC;\n",
              "    }\n",
              "\n",
              "    [theme=dark] .colab-df-convert:hover {\n",
              "      background-color: #434B5C;\n",
              "      box-shadow: 0px 1px 3px 1px rgba(0, 0, 0, 0.15);\n",
              "      filter: drop-shadow(0px 1px 2px rgba(0, 0, 0, 0.3));\n",
              "      fill: #FFFFFF;\n",
              "    }\n",
              "  </style>\n",
              "\n",
              "    <script>\n",
              "      const buttonEl =\n",
              "        document.querySelector('#df-37d98b36-c88b-4619-a95a-9dc46e5f63c8 button.colab-df-convert');\n",
              "      buttonEl.style.display =\n",
              "        google.colab.kernel.accessAllowed ? 'block' : 'none';\n",
              "\n",
              "      async function convertToInteractive(key) {\n",
              "        const element = document.querySelector('#df-37d98b36-c88b-4619-a95a-9dc46e5f63c8');\n",
              "        const dataTable =\n",
              "          await google.colab.kernel.invokeFunction('convertToInteractive',\n",
              "                                                    [key], {});\n",
              "        if (!dataTable) return;\n",
              "\n",
              "        const docLinkHtml = 'Like what you see? Visit the ' +\n",
              "          '<a target=\"_blank\" href=https://colab.research.google.com/notebooks/data_table.ipynb>data table notebook</a>'\n",
              "          + ' to learn more about interactive tables.';\n",
              "        element.innerHTML = '';\n",
              "        dataTable['output_type'] = 'display_data';\n",
              "        await google.colab.output.renderOutput(dataTable, element);\n",
              "        const docLink = document.createElement('div');\n",
              "        docLink.innerHTML = docLinkHtml;\n",
              "        element.appendChild(docLink);\n",
              "      }\n",
              "    </script>\n",
              "  </div>\n",
              "\n",
              "\n",
              "    <div id=\"df-16235c73-eba1-4e67-b725-a263805634b0\">\n",
              "      <button class=\"colab-df-quickchart\" onclick=\"quickchart('df-16235c73-eba1-4e67-b725-a263805634b0')\"\n",
              "                title=\"Suggest charts\"\n",
              "                style=\"display:none;\">\n",
              "\n",
              "<svg xmlns=\"http://www.w3.org/2000/svg\" height=\"24px\"viewBox=\"0 0 24 24\"\n",
              "     width=\"24px\">\n",
              "    <g>\n",
              "        <path d=\"M19 3H5c-1.1 0-2 .9-2 2v14c0 1.1.9 2 2 2h14c1.1 0 2-.9 2-2V5c0-1.1-.9-2-2-2zM9 17H7v-7h2v7zm4 0h-2V7h2v10zm4 0h-2v-4h2v4z\"/>\n",
              "    </g>\n",
              "</svg>\n",
              "      </button>\n",
              "\n",
              "<style>\n",
              "  .colab-df-quickchart {\n",
              "      --bg-color: #E8F0FE;\n",
              "      --fill-color: #1967D2;\n",
              "      --hover-bg-color: #E2EBFA;\n",
              "      --hover-fill-color: #174EA6;\n",
              "      --disabled-fill-color: #AAA;\n",
              "      --disabled-bg-color: #DDD;\n",
              "  }\n",
              "\n",
              "  [theme=dark] .colab-df-quickchart {\n",
              "      --bg-color: #3B4455;\n",
              "      --fill-color: #D2E3FC;\n",
              "      --hover-bg-color: #434B5C;\n",
              "      --hover-fill-color: #FFFFFF;\n",
              "      --disabled-bg-color: #3B4455;\n",
              "      --disabled-fill-color: #666;\n",
              "  }\n",
              "\n",
              "  .colab-df-quickchart {\n",
              "    background-color: var(--bg-color);\n",
              "    border: none;\n",
              "    border-radius: 50%;\n",
              "    cursor: pointer;\n",
              "    display: none;\n",
              "    fill: var(--fill-color);\n",
              "    height: 32px;\n",
              "    padding: 0;\n",
              "    width: 32px;\n",
              "  }\n",
              "\n",
              "  .colab-df-quickchart:hover {\n",
              "    background-color: var(--hover-bg-color);\n",
              "    box-shadow: 0 1px 2px rgba(60, 64, 67, 0.3), 0 1px 3px 1px rgba(60, 64, 67, 0.15);\n",
              "    fill: var(--button-hover-fill-color);\n",
              "  }\n",
              "\n",
              "  .colab-df-quickchart-complete:disabled,\n",
              "  .colab-df-quickchart-complete:disabled:hover {\n",
              "    background-color: var(--disabled-bg-color);\n",
              "    fill: var(--disabled-fill-color);\n",
              "    box-shadow: none;\n",
              "  }\n",
              "\n",
              "  .colab-df-spinner {\n",
              "    border: 2px solid var(--fill-color);\n",
              "    border-color: transparent;\n",
              "    border-bottom-color: var(--fill-color);\n",
              "    animation:\n",
              "      spin 1s steps(1) infinite;\n",
              "  }\n",
              "\n",
              "  @keyframes spin {\n",
              "    0% {\n",
              "      border-color: transparent;\n",
              "      border-bottom-color: var(--fill-color);\n",
              "      border-left-color: var(--fill-color);\n",
              "    }\n",
              "    20% {\n",
              "      border-color: transparent;\n",
              "      border-left-color: var(--fill-color);\n",
              "      border-top-color: var(--fill-color);\n",
              "    }\n",
              "    30% {\n",
              "      border-color: transparent;\n",
              "      border-left-color: var(--fill-color);\n",
              "      border-top-color: var(--fill-color);\n",
              "      border-right-color: var(--fill-color);\n",
              "    }\n",
              "    40% {\n",
              "      border-color: transparent;\n",
              "      border-right-color: var(--fill-color);\n",
              "      border-top-color: var(--fill-color);\n",
              "    }\n",
              "    60% {\n",
              "      border-color: transparent;\n",
              "      border-right-color: var(--fill-color);\n",
              "    }\n",
              "    80% {\n",
              "      border-color: transparent;\n",
              "      border-right-color: var(--fill-color);\n",
              "      border-bottom-color: var(--fill-color);\n",
              "    }\n",
              "    90% {\n",
              "      border-color: transparent;\n",
              "      border-bottom-color: var(--fill-color);\n",
              "    }\n",
              "  }\n",
              "</style>\n",
              "\n",
              "      <script>\n",
              "        async function quickchart(key) {\n",
              "          const quickchartButtonEl =\n",
              "            document.querySelector('#' + key + ' button');\n",
              "          quickchartButtonEl.disabled = true;  // To prevent multiple clicks.\n",
              "          quickchartButtonEl.classList.add('colab-df-spinner');\n",
              "          try {\n",
              "            const charts = await google.colab.kernel.invokeFunction(\n",
              "                'suggestCharts', [key], {});\n",
              "          } catch (error) {\n",
              "            console.error('Error during call to suggestCharts:', error);\n",
              "          }\n",
              "          quickchartButtonEl.classList.remove('colab-df-spinner');\n",
              "          quickchartButtonEl.classList.add('colab-df-quickchart-complete');\n",
              "        }\n",
              "        (() => {\n",
              "          let quickchartButtonEl =\n",
              "            document.querySelector('#df-16235c73-eba1-4e67-b725-a263805634b0 button');\n",
              "          quickchartButtonEl.style.display =\n",
              "            google.colab.kernel.accessAllowed ? 'block' : 'none';\n",
              "        })();\n",
              "      </script>\n",
              "    </div>\n",
              "\n",
              "    </div>\n",
              "  </div>\n"
            ],
            "application/vnd.google.colaboratory.intrinsic+json": {
              "type": "dataframe",
              "summary": "{\n  \"name\": \"salary_df\",\n  \"rows\": 8,\n  \"fields\": [\n    {\n      \"column\": \"YearsExperience\",\n      \"properties\": {\n        \"dtype\": \"number\",\n        \"std\": 9.275407845895339,\n        \"min\": 1.2,\n        \"max\": 30.0,\n        \"num_unique_values\": 8,\n        \"samples\": [\n          5.413333333333332,\n          4.8,\n          30.0\n        ],\n        \"semantic_type\": \"\",\n        \"description\": \"\"\n      }\n    },\n    {\n      \"column\": \"Salary\",\n      \"properties\": {\n        \"dtype\": \"number\",\n        \"std\": 39606.091787178084,\n        \"min\": 30.0,\n        \"max\": 122392.0,\n        \"num_unique_values\": 8,\n        \"samples\": [\n          76004.0,\n          65238.0,\n          30.0\n        ],\n        \"semantic_type\": \"\",\n        \"description\": \"\"\n      }\n    }\n  ]\n}"
            }
          },
          "metadata": {},
          "execution_count": 68
        }
      ]
    },
    {
      "cell_type": "code",
      "source": [
        "# are all the values in the df non-null?\n",
        "salary_df.isnull().sum()"
      ],
      "metadata": {
        "colab": {
          "base_uri": "https://localhost:8080/",
          "height": 146
        },
        "id": "f0r4zMCh8RsL",
        "outputId": "706e1449-387b-44ff-a89b-c260a3fcfafe"
      },
      "execution_count": null,
      "outputs": [
        {
          "output_type": "execute_result",
          "data": {
            "text/plain": [
              "YearsExperience    0\n",
              "Salary             0\n",
              "dtype: int64"
            ],
            "text/html": [
              "<div>\n",
              "<style scoped>\n",
              "    .dataframe tbody tr th:only-of-type {\n",
              "        vertical-align: middle;\n",
              "    }\n",
              "\n",
              "    .dataframe tbody tr th {\n",
              "        vertical-align: top;\n",
              "    }\n",
              "\n",
              "    .dataframe thead th {\n",
              "        text-align: right;\n",
              "    }\n",
              "</style>\n",
              "<table border=\"1\" class=\"dataframe\">\n",
              "  <thead>\n",
              "    <tr style=\"text-align: right;\">\n",
              "      <th></th>\n",
              "      <th>0</th>\n",
              "    </tr>\n",
              "  </thead>\n",
              "  <tbody>\n",
              "    <tr>\n",
              "      <th>YearsExperience</th>\n",
              "      <td>0</td>\n",
              "    </tr>\n",
              "    <tr>\n",
              "      <th>Salary</th>\n",
              "      <td>0</td>\n",
              "    </tr>\n",
              "  </tbody>\n",
              "</table>\n",
              "</div><br><label><b>dtype:</b> int64</label>"
            ]
          },
          "metadata": {},
          "execution_count": 69
        }
      ]
    },
    {
      "cell_type": "code",
      "source": [
        "# check correlation heatmap\n",
        "import seaborn as sns\n",
        "corr = salary_df.corr(numeric_only=True)\n",
        "plt.figure(figsize=(10, 8))\n",
        "sns.heatmap(\n",
        "    corr,\n",
        "    annot=True,        # show numbers inside the squares\n",
        "    fmt=\".2f\",         # format numbers to 2 decimals\n",
        "    cmap=\"coolwarm\",   # color palette (blue = negative, red = positive)\n",
        "    cbar=True          # show color bar\n",
        ")\n",
        "plt.title(\"Correlation Heatmap\", fontsize=16)\n",
        "plt.show()"
      ],
      "metadata": {
        "colab": {
          "base_uri": "https://localhost:8080/",
          "height": 701
        },
        "id": "Ch5jWc848m_q",
        "outputId": "3720ff38-a007-4d2c-d0a4-00f9f15acb71"
      },
      "execution_count": null,
      "outputs": [
        {
          "output_type": "display_data",
          "data": {
            "text/plain": [
              "<Figure size 1000x800 with 2 Axes>"
            ],
            "image/png": "[encoded data removed]"
          },
          "metadata": {}
        }
      ]
    },
    {
      "cell_type": "code",
      "source": [
        "# check visually the data\n",
        "salary_df.plot(x=\"YearsExperience\", y=\"Salary\", kind=\"bar\")"
      ],
      "metadata": {
        "colab": {
          "base_uri": "https://localhost:8080/",
          "height": 606
        },
        "id": "xEWkgTqItHj6",
        "outputId": "ff2df2e4-e518-47b4-e478-7e997f9d9a85"
      },
      "execution_count": null,
      "outputs": [
        {
          "output_type": "execute_result",
          "data": {
            "text/plain": [
              "<Axes: xlabel='YearsExperience'>"
            ]
          },
          "metadata": {},
          "execution_count": 5
        },
        {
          "output_type": "display_data",
          "data": {
            "text/plain": [
              "<Figure size 640x480 with 1 Axes>"
            ],
            "image/png": "[encoded data removed]"
          },
          "metadata": {}
        }
      ]
    },
    {
      "cell_type": "code",
      "source": [
        "# get rid of the decimals\n",
        "salary_df[\"YearsExperience\"] = salary_df[\"YearsExperience\"].round(2)\n",
        "\n",
        "# check again\n",
        "salary_df.plot(x=\"YearsExperience\", y=\"Salary\", kind=\"bar\")"
      ],
      "metadata": {
        "colab": {
          "base_uri": "https://localhost:8080/",
          "height": 483
        },
        "id": "CgZzLOPLtuoJ",
        "outputId": "db5d84eb-9ed1-4b44-b0cf-1f57aeff8d28"
      },
      "execution_count": null,
      "outputs": [
        {
          "output_type": "execute_result",
          "data": {
            "text/plain": [
              "<Axes: xlabel='YearsExperience'>"
            ]
          },
          "metadata": {},
          "execution_count": 6
        },
        {
          "output_type": "display_data",
          "data": {
            "text/plain": [
              "<Figure size 640x480 with 1 Axes>"
            ],
            "image/png": "[encoded data removed]"
          },
          "metadata": {}
        }
      ]
    },
    {
      "cell_type": "code",
      "source": [
        "def get_r(x, y):\n",
        "  \"\"\"\n",
        "  can we do Linear Regression? we need the coefficient of correlation (r)\n",
        "  0 means no relation, -1 or 1 mean 100%\n",
        "  \"\"\"\n",
        "  n = len(salary_df)\n",
        "\n",
        "  # numerator and denominator\n",
        "  numerator = (n * sum(x*y)) - ((sum(x))*(sum(y)))\n",
        "  denominator = ( (n * sum(x**2) - (sum(x)**2)) * (n * (sum(y**2)) - (sum(y)**2)) )**0.5\n",
        "\n",
        "  # get r\n",
        "  r = numerator / denominator\n",
        "  return r"
      ],
      "metadata": {
        "id": "sgYu6sAP0ClT"
      },
      "execution_count": null,
      "outputs": []
    },
    {
      "cell_type": "code",
      "source": [
        "# get r for our data\n",
        "print(get_r(salary_df[\"YearsExperience\"], salary_df[\"Salary\"]))"
      ],
      "metadata": {
        "colab": {
          "base_uri": "https://localhost:8080/"
        },
        "id": "QdEwlMUM2yFb",
        "outputId": "ad0eedca-975c-4b0f-dc68-f749a16fb418"
      },
      "execution_count": null,
      "outputs": [
        {
          "output_type": "stream",
          "name": "stdout",
          "text": [
            "0.97824161848876\n"
          ]
        }
      ]
    },
    {
      "cell_type": "code",
      "source": [
        "import random\n",
        "import numpy as np\n",
        "# try with dummy data\n",
        "dummy_x = random.sample(range(1, 101), 30)\n",
        "dummy_y = random.sample(range(101, 201), 30)\n",
        "\n",
        "print(get_r(np.array(dummy_x), np.array(dummy_y)))"
      ],
      "metadata": {
        "colab": {
          "base_uri": "https://localhost:8080/"
        },
        "id": "5WMAXBfX25hT",
        "outputId": "75aeb102-8c45-413f-fd84-bd6500e7d3d2"
      },
      "execution_count": null,
      "outputs": [
        {
          "output_type": "stream",
          "name": "stdout",
          "text": [
            "0.011934549320088436\n"
          ]
        }
      ]
    },
    {
      "cell_type": "markdown",
      "source": [
        "##Linear Regression (Scipy)\n",
        "In this part of the notebook, we'll talk about linear regression with the parsed and cleaned CSV."
      ],
      "metadata": {
        "id": "0YJ5LX6wv7uD"
      }
    },
    {
      "cell_type": "code",
      "source": [
        "# the correct way to visualize the data\n",
        "salary_df.plot(x=\"YearsExperience\", y=\"Salary\", kind=\"scatter\")"
      ],
      "metadata": {
        "colab": {
          "base_uri": "https://localhost:8080/",
          "height": 466
        },
        "id": "vb6F7rylueMQ",
        "outputId": "03d30679-8b78-44f0-84d8-b228815c81d0"
      },
      "execution_count": null,
      "outputs": [
        {
          "output_type": "execute_result",
          "data": {
            "text/plain": [
              "<Axes: xlabel='YearsExperience', ylabel='Salary'>"
            ]
          },
          "metadata": {},
          "execution_count": 10
        },
        {
          "output_type": "display_data",
          "data": {
            "text/plain": [
              "<Figure size 640x480 with 1 Axes>"
            ],
            "image/png": "[encoded data removed]"
          },
          "metadata": {}
        }
      ]
    },
    {
      "cell_type": "code",
      "source": [
        "import matplotlib.pyplot as plt\n",
        "from scipy import stats\n",
        "\n",
        "# set x and y values\n",
        "x = salary_df[\"YearsExperience\"]\n",
        "y = salary_df[\"Salary\"]\n",
        "\n",
        "# draw the linear regression line\n",
        "slope, intercept, r, p, std_err = stats.linregress(x, y)\n",
        "\n",
        "def line(x):\n",
        "  \"\"\"\n",
        "  Line equation:\n",
        "  y = mx + b\n",
        "  m -> slope\n",
        "  m = (y2 -y1) / (x2 - x1)\n",
        "  \"\"\"\n",
        "  return slope * x + intercept\n",
        "\n",
        "# make the model\n",
        "model = list(map(line, x))\n",
        "\n",
        "# plot\n",
        "plt.scatter(x, y)\n",
        "plt.plot(x, model, color=\"green\")\n",
        "plt.show()"
      ],
      "metadata": {
        "colab": {
          "base_uri": "https://localhost:8080/",
          "height": 430
        },
        "id": "P0mYb3RCwc0N",
        "outputId": "065c314d-20d4-40a3-d976-7cc66a2edc23"
      },
      "execution_count": null,
      "outputs": [
        {
          "output_type": "display_data",
          "data": {
            "text/plain": [
              "<Figure size 640x480 with 1 Axes>"
            ],
            "image/png": "[encoded data removed]"
          },
          "metadata": {}
        }
      ]
    },
    {
      "cell_type": "code",
      "source": [
        "# predict future values\n",
        "predict_x = 5.8\n",
        "predicted = line(predict_x)\n",
        "\n",
        "# plot normal\n",
        "plt.scatter(x, y)\n",
        "plt.plot(x, model, color=\"green\")\n",
        "\n",
        "# predicted\n",
        "plt.scatter(predict_x, predicted, color=\"red\")\n",
        "plt.xlabel(\"YearsExperience\")\n",
        "plt.ylabel(\"Salary\")\n",
        "plt.show()"
      ],
      "metadata": {
        "id": "2h-Voc9Iytwr",
        "colab": {
          "base_uri": "https://localhost:8080/",
          "height": 449
        },
        "outputId": "32c6a7c1-6b81-4795-dedf-585506f7a545"
      },
      "execution_count": null,
      "outputs": [
        {
          "output_type": "display_data",
          "data": {
            "text/plain": [
              "<Figure size 640x480 with 1 Axes>"
            ],
            "image/png": "[encoded data removed]"
          },
          "metadata": {}
        }
      ]
    },
    {
      "cell_type": "markdown",
      "source": [
        "# Linear regression (from scratch)\n",
        "In this part of the notebook, we'll program linear regression from scratch."
      ],
      "metadata": {
        "id": "_7v2kWIui2w-"
      }
    },
    {
      "cell_type": "code",
      "source": [
        "class LinearRegression:\n",
        "\n",
        "  def __init__(self, learning_rate, convergence_tolerance=1e-6):\n",
        "    \"\"\"\n",
        "    Learning rate: size of the steps in change\n",
        "    Convergence tolerance: Minimum change in cost between iterations (early stopping)\n",
        "    \"\"\"\n",
        "    self.learning_rate = learning_rate\n",
        "    self.convergence_tolerance = convergence_tolerance\n",
        "    self.W = None\n",
        "    self.b = None\n",
        "\n",
        "  def init_params(self, n_features):\n",
        "    \"\"\"\n",
        "    Initialize model parameters with the number of features\n",
        "    \"\"\"\n",
        "    # get random weights normalized\n",
        "    self.W = np.random.randn(n_features) * 0.1\n",
        "    # set bias\n",
        "    self.b = 0\n",
        "\n",
        "  def forward_prop(self, X):\n",
        "    \"\"\"\n",
        "    Forward propagation for linear regression using the equation of the line\n",
        "    \"\"\"\n",
        "    return np.dot(X, self.W) + self.b\n",
        "\n",
        "  def compute_cost(self, predictions):\n",
        "    \"\"\"\n",
        "    Compute the MSE (mean squared error)\n",
        "    \"\"\"\n",
        "    m = len(predictions)\n",
        "    cost = np.sum(np.square(predictions - self.y)) / (2 * m)\n",
        "    return cost\n",
        "\n",
        "  def back_prop(self, predictions):\n",
        "    \"\"\"\n",
        "    Compute the gradients for model parameters\n",
        "    \"\"\"\n",
        "    m = len(predictions)\n",
        "    self.dW = np.dot(predictions - self.y, self.X) / m\n",
        "    self.db = np.sum(predictions - self.y) / m\n",
        "\n",
        "  def fit(self, X, y, iterations, plot_cost=True):\n",
        "    \"\"\"\n",
        "    Fit the model with the train data\n",
        "    \"\"\"\n",
        "    self.X = X\n",
        "    self.y = y\n",
        "    self.init_params(X.shape[1])\n",
        "    costs = []\n",
        "\n",
        "    for i in range(iterations):\n",
        "        predictions = self.forward_prop(X)\n",
        "        cost = self.compute_cost(predictions)\n",
        "        self.back_prop(predictions)\n",
        "        self.W -= self.learning_rate * self.dW\n",
        "        self.b -= self.learning_rate * self.db\n",
        "        costs.append(cost)\n",
        "\n",
        "        if i % 100 == 0:\n",
        "            print(f'Iteration: {i}, Cost: {cost}')\n",
        "\n",
        "        if i > 0 and abs(costs[-1] - costs[-2]) < self.convergence_tolerance:\n",
        "            print(f'Converged after {i} iterations.')\n",
        "            break\n",
        "\n",
        "    if plot_cost:\n",
        "        plt.plot(range(len(costs)), costs)\n",
        "        plt.title(\"Cost vs Iteration\")\n",
        "        plt.xlabel(\"Iterations\")\n",
        "        plt.ylabel(\"Cost\")\n",
        "        plt.show()\n",
        "\n",
        "  def predict(self, X):\n",
        "    \"\"\"\n",
        "    Predict new values to the model\n",
        "    \"\"\"\n",
        "    return self.forward_prop(X)"
      ],
      "metadata": {
        "id": "6-rPXptmjSTY"
      },
      "execution_count": null,
      "outputs": []
    },
    {
      "cell_type": "code",
      "source": [
        "x = np.array(x)\n",
        "y = np.array(y)\n",
        "# Reshape x to 2D\n",
        "X = x.reshape(-1, 1)\n",
        "x,y"
      ],
      "metadata": {
        "colab": {
          "base_uri": "https://localhost:8080/"
        },
        "id": "v5j15p6QUfuE",
        "outputId": "cc94ce9f-63c3-4596-a6cd-0ad5de783e88"
      },
      "execution_count": null,
      "outputs": [
        {
          "output_type": "execute_result",
          "data": {
            "text/plain": [
              "(array([ 1.2,  1.4,  1.6,  2.1,  2.3,  3. ,  3.1,  3.3,  3.3,  3.8,  4. ,\n",
              "         4.1,  4.1,  4.2,  4.6,  5. ,  5.2,  5.4,  6. ,  6.1,  6.9,  7.2,\n",
              "         8. ,  8.3,  8.8,  9.1,  9.6,  9.7, 10.4, 10.6]),\n",
              " array([ 39344.,  46206.,  37732.,  43526.,  39892.,  56643.,  60151.,\n",
              "         54446.,  64446.,  57190.,  63219.,  55795.,  56958.,  57082.,\n",
              "         61112.,  67939.,  66030.,  83089.,  81364.,  93941.,  91739.,\n",
              "         98274., 101303., 113813., 109432., 105583., 116970., 112636.,\n",
              "        122392., 121873.]))"
            ]
          },
          "metadata": {},
          "execution_count": 37
        }
      ]
    },
    {
      "cell_type": "code",
      "source": [
        "model_scratch = LinearRegression(0.01)\n",
        "model_scratch.fit(X, y, 10000)"
      ],
      "metadata": {
        "colab": {
          "base_uri": "https://localhost:8080/",
          "height": 1000
        },
        "id": "GI3DkiztTntm",
        "outputId": "bffb05e4-5c58-47af-a380-30f5943a8f79"
      },
      "execution_count": null,
      "outputs": [
        {
          "output_type": "stream",
          "name": "stdout",
          "text": [
            "Iteration: 0, Cost: 3251628722.834307\n",
            "Iteration: 100, Cost: 52325692.20281079\n",
            "Iteration: 200, Cost: 39950289.36673362\n",
            "Iteration: 300, Cost: 31749040.041472543\n",
            "Iteration: 400, Cost: 26314025.81316682\n",
            "Iteration: 500, Cost: 22712211.200495545\n",
            "Iteration: 600, Cost: 20325268.322501186\n",
            "Iteration: 700, Cost: 18743427.80168035\n",
            "Iteration: 800, Cost: 17695133.158193447\n",
            "Iteration: 900, Cost: 17000422.379768644\n",
            "Iteration: 1000, Cost: 16540033.62489123\n",
            "Iteration: 1100, Cost: 16234931.397892293\n",
            "Iteration: 1200, Cost: 16032738.429594217\n",
            "Iteration: 1300, Cost: 15898744.008015241\n",
            "Iteration: 1400, Cost: 15809945.148364399\n",
            "Iteration: 1500, Cost: 15751097.64275657\n",
            "Iteration: 1600, Cost: 15712099.068564482\n",
            "Iteration: 1700, Cost: 15686254.493279506\n",
            "Iteration: 1800, Cost: 15669127.147331646\n",
            "Iteration: 1900, Cost: 15657776.758478949\n",
            "Iteration: 2000, Cost: 15650254.791707216\n",
            "Iteration: 2100, Cost: 15645269.941862045\n",
            "Iteration: 2200, Cost: 15641966.453727502\n",
            "Iteration: 2300, Cost: 15639777.213490771\n",
            "Iteration: 2400, Cost: 15638326.391626464\n",
            "Iteration: 2500, Cost: 15637364.923786314\n",
            "Iteration: 2600, Cost: 15636727.753620658\n",
            "Iteration: 2700, Cost: 15636305.497354684\n",
            "Iteration: 2800, Cost: 15636025.665743373\n",
            "Iteration: 2900, Cost: 15635840.21975476\n",
            "Iteration: 3000, Cost: 15635717.323651174\n",
            "Iteration: 3100, Cost: 15635635.879709492\n",
            "Iteration: 3200, Cost: 15635581.906349547\n",
            "Iteration: 3300, Cost: 15635546.137899209\n",
            "Iteration: 3400, Cost: 15635522.433945244\n",
            "Iteration: 3500, Cost: 15635506.725201113\n",
            "Iteration: 3600, Cost: 15635496.314927705\n",
            "Iteration: 3700, Cost: 15635489.41598074\n",
            "Iteration: 3800, Cost: 15635484.844009645\n",
            "Iteration: 3900, Cost: 15635481.814138593\n",
            "Iteration: 4000, Cost: 15635479.806225928\n",
            "Iteration: 4100, Cost: 15635478.475570878\n",
            "Iteration: 4200, Cost: 15635477.593738269\n",
            "Iteration: 4300, Cost: 15635477.00934281\n",
            "Iteration: 4400, Cost: 15635476.622060644\n",
            "Iteration: 4500, Cost: 15635476.365406578\n",
            "Iteration: 4600, Cost: 15635476.195320463\n",
            "Iteration: 4700, Cost: 15635476.08260343\n",
            "Iteration: 4800, Cost: 15635476.007905228\n",
            "Iteration: 4900, Cost: 15635475.958402302\n",
            "Iteration: 5000, Cost: 15635475.925596435\n",
            "Iteration: 5100, Cost: 15635475.903855808\n",
            "Iteration: 5200, Cost: 15635475.889448166\n",
            "Iteration: 5300, Cost: 15635475.879900146\n",
            "Iteration: 5400, Cost: 15635475.873572607\n",
            "Iteration: 5500, Cost: 15635475.869379323\n",
            "Iteration: 5600, Cost: 15635475.866600392\n",
            "Iteration: 5700, Cost: 15635475.864758806\n",
            "Iteration: 5800, Cost: 15635475.863538371\n",
            "Iteration: 5900, Cost: 15635475.862729568\n",
            "Iteration: 6000, Cost: 15635475.862193568\n",
            "Iteration: 6100, Cost: 15635475.861838363\n",
            "Iteration: 6200, Cost: 15635475.86160298\n",
            "Iteration: 6300, Cost: 15635475.861446982\n",
            "Converged after 6356 iterations.\n"
          ]
        },
        {
          "output_type": "display_data",
          "data": {
            "text/plain": [
              "<Figure size 640x480 with 1 Axes>"
            ],
            "image/png": "[encoded data removed]"
          },
          "metadata": {}
        }
      ]
    },
    {
      "cell_type": "code",
      "source": [
        "# Make predictions\n",
        "preds = model_scratch.predict(X)\n",
        "\n",
        "# Plot regression line\n",
        "plt.scatter(x, y, label=\"Data\", color=\"blue\")   # scatter plot of points\n",
        "plt.plot(x, preds, label=\"Regression Line\", color=\"red\")  # regression line\n",
        "plt.xlabel(\"YearsExperience\")\n",
        "plt.ylabel(\"Salary\")\n",
        "plt.title(\"Salary vs Experience\")\n",
        "plt.legend()\n",
        "plt.show()"
      ],
      "metadata": {
        "colab": {
          "base_uri": "https://localhost:8080/",
          "height": 472
        },
        "id": "P17oqsPJV6zY",
        "outputId": "55904b86-1ed7-403f-d2c4-196a5baa9e9e"
      },
      "execution_count": null,
      "outputs": [
        {
          "output_type": "display_data",
          "data": {
            "text/plain": [
              "<Figure size 640x480 with 1 Axes>"
            ],
            "image/png": "[encoded data removed]"
          },
          "metadata": {}
        }
      ]
    },
    {
      "cell_type": "code",
      "source": [
        "# predict to the ammount of years we tried before\n",
        "predicted_salary = model_scratch.predict(np.array([[6.5]]))\n",
        "predicted_salary"
      ],
      "metadata": {
        "colab": {
          "base_uri": "https://localhost:8080/"
        },
        "id": "KKpPKDWnW3XR",
        "outputId": "051a72b9-3ea6-4b84-8dc4-396af43abd6f"
      },
      "execution_count": null,
      "outputs": [
        {
          "output_type": "execute_result",
          "data": {
            "text/plain": [
              "array([86272.95684461])"
            ]
          },
          "metadata": {},
          "execution_count": 58
        }
      ]
    }
  ]
}